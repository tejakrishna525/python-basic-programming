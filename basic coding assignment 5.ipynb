{
 "cells": [
  {
   "cell_type": "code",
   "execution_count": 1,
   "id": "0aee0afc",
   "metadata": {},
   "outputs": [
    {
     "name": "stdout",
     "output_type": "stream",
     "text": [
      "enter the number24\n",
      "enter the second number36\n",
      "lcm of  24 and 36 is 72\n"
     ]
    }
   ],
   "source": [
    "#1. Write a Python Program to Find LCM?\n",
    "\n",
    "def compute_lcm(n1,n2):\n",
    "    if n1>n2:\n",
    "        higher = n1\n",
    "    else:\n",
    "        higher = n2\n",
    "    \n",
    "    value = higher    \n",
    "    while True:\n",
    "        if higher%n1 == 0 and higher%n2 == 0:\n",
    "            print('lcm of ',n1,'and',n2,'is',higher)\n",
    "            break\n",
    "        else:\n",
    "            higher = higher+value\n",
    "            \n",
    "n1 = int(input('enter the number'))\n",
    "n2 = int(input('enter the second number'))\n",
    "\n",
    "compute_lcm(n1,n2)\n",
    "        "
   ]
  },
  {
   "cell_type": "code",
   "execution_count": 2,
   "id": "364efe22",
   "metadata": {},
   "outputs": [
    {
     "data": {
      "text/plain": [
       "16"
      ]
     },
     "execution_count": 2,
     "metadata": {},
     "output_type": "execute_result"
    }
   ],
   "source": [
    "#2. Write a Python Program to Find HCF?\n",
    "import math\n",
    "math.gcd(64,48)"
   ]
  },
  {
   "cell_type": "code",
   "execution_count": 4,
   "id": "de45d85b",
   "metadata": {},
   "outputs": [
    {
     "name": "stdout",
     "output_type": "stream",
     "text": [
      "enter the first number4\n",
      "enter the second number18\n",
      "gcd of numbers is 2\n"
     ]
    }
   ],
   "source": [
    "#2.\n",
    "def gcd_fun(a,b):\n",
    "    if b==0:\n",
    "        print('gcd of numbers is',a)\n",
    "    else:\n",
    "        return gcd_fun(b,a%b)\n",
    "    \n",
    "n1 = int(input('enter the first number'))\n",
    "n2 = int(input('enter the second number'))\n",
    "\n",
    "gcd_fun(n1,n2)"
   ]
  },
  {
   "cell_type": "code",
   "execution_count": 1,
   "id": "c700b54f",
   "metadata": {},
   "outputs": [
    {
     "name": "stdout",
     "output_type": "stream",
     "text": [
      "enter the number10\n",
      "[1, 0, 1, 0]\n",
      "enter the decimal number394\n",
      "[1, 0, 1, 0]\n"
     ]
    }
   ],
   "source": [
    "#3. Write a Python Program to Convert Decimal to Binary, Octal and Hexadecimal?\n",
    "#decimal to binary\n",
    "n = int(input('enter the number'))\n",
    "l = []\n",
    "while n!=0:\n",
    "    temp = n%2\n",
    "    l.append(temp)\n",
    "    n = n//2\n",
    "    \n",
    "l.reverse()\n",
    "print(l)\n"
   ]
  },
  {
   "cell_type": "code",
   "execution_count": 6,
   "id": "3f1e8baf",
   "metadata": {},
   "outputs": [
    {
     "name": "stdout",
     "output_type": "stream",
     "text": [
      "enter the decimal number394\n",
      "6 1 2\n"
     ]
    }
   ],
   "source": [
    "#3.\n",
    "n1 = int(input('enter the decimal number'))\n",
    "l1 = []\n",
    "while n1!=0:\n",
    "    temp = n1%8\n",
    "    l1.append(temp)\n",
    "    n1 = n1//8\n",
    "    \n",
    "l1.reverse()\n",
    "print(' '.join(map(str,l1)))"
   ]
  },
  {
   "cell_type": "code",
   "execution_count": 4,
   "id": "a10cf406",
   "metadata": {},
   "outputs": [
    {
     "name": "stdout",
     "output_type": "stream",
     "text": [
      "enter the decimal number254\n",
      "FE\n"
     ]
    }
   ],
   "source": [
    "conversion_table = {0: '0', 1: '1', 2: '2', 3: '3', 4: '4',\n",
    "                    5: '5', 6: '6', 7: '7',\n",
    "                    8: '8', 9: '9', 10: 'A', 11: 'B', 12: 'C',\n",
    "                    13: 'D', 14: 'E', 15: 'F'}\n",
    "  \n",
    "n = int(input('enter the decimal number'))\n",
    "hexadecimal =''\n",
    "while n!=0:\n",
    "    temp = n%16\n",
    "    hexadecimal = conversion_table[temp] + hexadecimal\n",
    "    n = n//16\n",
    "    \n",
    "print(hexadecimal)"
   ]
  },
  {
   "cell_type": "code",
   "execution_count": null,
   "id": "f3886e07",
   "metadata": {},
   "outputs": [],
   "source": []
  },
  {
   "cell_type": "code",
   "execution_count": 7,
   "id": "b9875cf6",
   "metadata": {},
   "outputs": [
    {
     "name": "stdout",
     "output_type": "stream",
     "text": [
      "104 101 108 108 111 32 115 117 110 110 121 "
     ]
    }
   ],
   "source": [
    "#4.Write a Python Program To Find ASCII value of a character?\n",
    "ord('A')\n",
    "string = 'hello sunny'\n",
    "for i in string:\n",
    "    print(ord(i),end=' ')"
   ]
  },
  {
   "cell_type": "code",
   "execution_count": 26,
   "id": "ad67be5d",
   "metadata": {},
   "outputs": [
    {
     "name": "stdout",
     "output_type": "stream",
     "text": [
      "please select operations\n",
      "1. add\n",
      "2. substract\n",
      "3.multiply\n",
      "4.divide\n",
      "select opeartions from 1,2,3,42\n",
      "enter first number2\n",
      "enter the second number2\n",
      "2 - 2 = 0\n"
     ]
    }
   ],
   "source": [
    "#5.Write a Python Program to Make a Simple Calculator with 4 basic mathematical operations?\n",
    "def add(a,b):\n",
    "    c - a+b\n",
    "    return c\n",
    "    \n",
    "def sub(a,b):\n",
    "    c = a-b\n",
    "    return c\n",
    "def mul(a,b):\n",
    "    c = a*b\n",
    "    return c\n",
    "    \n",
    "def div(a,b):\n",
    "    c = a/b\n",
    "    return c\n",
    "    \n",
    "print(\"please select operations\\n1. add\\n2. substract\\n3.multiply\\n4.divide\")\n",
    "\n",
    "select = int(input('select opeartions from 1,2,3,4'))\n",
    "a = int(input('enter first number'))\n",
    "b = int(input('enter the second number'))\n",
    "if select == 1:\n",
    "    print(a ,'+',b,'=' ,add(a,b))\n",
    "elif select == 2:\n",
    "    print(a,'-',b,'=',sub(a,b))\n",
    "    \n",
    "elif select == 3:\n",
    "    print(a,'*',b,'=',multiply(a,b))\n",
    "    \n",
    "elif select == 4:\n",
    "    print(a,'/',b,'=',divide(a,b))\n",
    "    \n",
    "else:\n",
    "    print('invalid input')"
   ]
  },
  {
   "cell_type": "code",
   "execution_count": null,
   "id": "20ac1302",
   "metadata": {},
   "outputs": [],
   "source": []
  }
 ],
 "metadata": {
  "kernelspec": {
   "display_name": "Python 3",
   "language": "python",
   "name": "python3"
  },
  "language_info": {
   "codemirror_mode": {
    "name": "ipython",
    "version": 3
   },
   "file_extension": ".py",
   "mimetype": "text/x-python",
   "name": "python",
   "nbconvert_exporter": "python",
   "pygments_lexer": "ipython3",
   "version": "3.8.8"
  }
 },
 "nbformat": 4,
 "nbformat_minor": 5
}
