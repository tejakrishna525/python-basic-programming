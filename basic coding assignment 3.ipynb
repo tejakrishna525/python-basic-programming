{
 "cells": [
  {
   "cell_type": "code",
   "execution_count": 4,
   "id": "d31f079e",
   "metadata": {},
   "outputs": [
    {
     "name": "stdout",
     "output_type": "stream",
     "text": [
      "enter the number2\n",
      "entered number is positive\n"
     ]
    }
   ],
   "source": [
    "#1.Write a Python Program to Check if a Number is Positive, Negative or Zero?\n",
    "a = int(input('enter the number'))\n",
    "if a<0:\n",
    "    print('entered number is negative')\n",
    "    \n",
    "elif a==0:\n",
    "    print('entered number is zero')\n",
    "else:\n",
    "    print('entered number is positive')"
   ]
  },
  {
   "cell_type": "code",
   "execution_count": 12,
   "id": "5ccd1b3d",
   "metadata": {},
   "outputs": [
    {
     "name": "stdout",
     "output_type": "stream",
     "text": [
      "enter the number4\n",
      "entered number is even\n"
     ]
    }
   ],
   "source": [
    "#2.Write a Python Program to Check if a Number is Odd or Even?\n",
    "a = int(input('enter the number'))\n",
    "if a%2 == 0:\n",
    "    print('entered number is even')\n",
    "else:\n",
    "    print('entered number is odd')"
   ]
  },
  {
   "cell_type": "code",
   "execution_count": 23,
   "id": "db5170c5",
   "metadata": {},
   "outputs": [
    {
     "name": "stdout",
     "output_type": "stream",
     "text": [
      "enter the year2022\n",
      "enetered the year is non leap year\n"
     ]
    }
   ],
   "source": [
    "#3.Write a Python Program to Check Leap Year?\n",
    "\n",
    "def check_leap_year(Year):\n",
    "    if((Year % 400 == 0) or  \n",
    "     (Year % 100 != 0) and  \n",
    "     (Year % 4 == 0)):\n",
    "        \n",
    "        print('entered the year is leap year')\n",
    "        \n",
    "    else:\n",
    "        print('enetered the year is non leap year')\n",
    "        \n",
    "Year = int(input('enter the year'))\n",
    "        \n",
    "check_leap_year(Year)\n",
    "    "
   ]
  },
  {
   "cell_type": "code",
   "execution_count": 5,
   "id": "6132e730",
   "metadata": {},
   "outputs": [],
   "source": [
    "#4.Write a Python Program to Check Prime Number?\n",
    "def check_prime(num):\n",
    "    if num>1:\n",
    "        for i in range(2,num):\n",
    "            if num%i == 0:\n",
    "                break\n",
    "                print('num is not a prime number')\n",
    "                \n",
    "            else:\n",
    "                print('num is a prime number')\n",
    "                break"
   ]
  },
  {
   "cell_type": "code",
   "execution_count": 6,
   "id": "582758cf",
   "metadata": {},
   "outputs": [
    {
     "name": "stdout",
     "output_type": "stream",
     "text": [
      "num is a prime number\n"
     ]
    }
   ],
   "source": [
    "check_prime(5)"
   ]
  },
  {
   "cell_type": "code",
   "execution_count": 16,
   "id": "7edeb8ee",
   "metadata": {},
   "outputs": [
    {
     "name": "stdout",
     "output_type": "stream",
     "text": [
      "2 3 "
     ]
    }
   ],
   "source": [
    "#Write a Python Program to Print all Prime Numbers in an Interval of 1-10000?\n",
    "\n",
    "for i in range(1,5):\n",
    "    count= 0\n",
    "    for j in range(1,i+1):\n",
    "        if(i%j == 0):\n",
    "            count+=1\n",
    "    if count == 2:\n",
    "        print(i,end=' ')\n",
    "            \n",
    "\n",
    "        \n",
    "            "
   ]
  },
  {
   "cell_type": "code",
   "execution_count": null,
   "id": "09657a6a",
   "metadata": {},
   "outputs": [],
   "source": []
  }
 ],
 "metadata": {
  "kernelspec": {
   "display_name": "Python 3",
   "language": "python",
   "name": "python3"
  },
  "language_info": {
   "codemirror_mode": {
    "name": "ipython",
    "version": 3
   },
   "file_extension": ".py",
   "mimetype": "text/x-python",
   "name": "python",
   "nbconvert_exporter": "python",
   "pygments_lexer": "ipython3",
   "version": "3.8.8"
  }
 },
 "nbformat": 4,
 "nbformat_minor": 5
}
